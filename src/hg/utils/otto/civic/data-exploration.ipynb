{
 "cells": [
  {
   "cell_type": "markdown",
   "id": "3f983bca-3453-4e75-99e0-8dc5b70682bd",
   "metadata": {},
   "source": [
    "# AAAAAAAAA"
   ]
  },
  {
   "cell_type": "code",
   "execution_count": null,
   "id": "f1b3ea3e",
   "metadata": {},
   "outputs": [],
   "source": [
    "# /// script\n",
    "# requires-python = \">=3.11\"\n",
    "# dependencies = [\n",
    "#     \"pandas\",\n",
    "#     \"quak\"\n",
    "# ]\n",
    "# ///"
   ]
  },
  {
   "cell_type": "code",
   "execution_count": null,
   "id": "5e6451df-9a57-4ffe-a055-73b40145198e",
   "metadata": {},
   "outputs": [],
   "source": [
    "%load_ext quak\n",
    "%load_ext autoreload\n",
    "%autoreload 2"
   ]
  },
  {
   "cell_type": "code",
   "execution_count": null,
   "id": "bf1a3f18-07cb-48e5-9a02-88bd320bf278",
   "metadata": {},
   "outputs": [],
   "source": [
    "from civicdbToBed import *"
   ]
  },
  {
   "cell_type": "code",
   "execution_count": null,
   "id": "eda3ed5f-090c-4367-a74a-d085dca2619f",
   "metadata": {},
   "outputs": [],
   "source": [
    "import datetime\n",
    "day = datetime.date.today() \n",
    "day = datetime.date.fromisoformat(\"2024-10-01\")\n",
    "day = datetime.date.fromisoformat(\"2024-11-01\")\n",
    "get_date_slug(day)"
   ]
  },
  {
   "cell_type": "code",
   "execution_count": null,
   "id": "16d03b38-aa40-4481-a9a1-cd64cc41d0cc",
   "metadata": {},
   "outputs": [],
   "source": [
    "dfs = download_and_load_dataframes(DOWNLOAD_DIR, DOWNLOAD_BASE_URL, day, overwrite=False, skip_check_prior=True)"
   ]
  },
  {
   "cell_type": "code",
   "execution_count": null,
   "id": "dc2c9b50-d915-403f-90c1-68f7f9a1e1ef",
   "metadata": {},
   "outputs": [],
   "source": [
    "dfs[\"VariantSummaries\"]"
   ]
  },
  {
   "cell_type": "code",
   "execution_count": null,
   "id": "d6578cbc-2582-40e6-9c11-a3294b8100ca",
   "metadata": {
    "scrolled": true
   },
   "outputs": [],
   "source": [
    "fdf = dfs[\"VariantSummaries\"].query(\"not is_flagged and feature_type == 'Fusion'\")\n",
    "pd.crosstab(~ fdf[\"5_prime_transcript\"].isnull(), ~ fdf[\"5_prime_end_exon\"].isnull())"
   ]
  },
  {
   "cell_type": "code",
   "execution_count": null,
   "id": "ca107b79-a158-49bb-b028-63181f881a38",
   "metadata": {},
   "outputs": [],
   "source": [
    "fdf"
   ]
  },
  {
   "cell_type": "code",
   "execution_count": null,
   "id": "fc2c5be7-8a00-4c3c-832a-7619401e07ee",
   "metadata": {},
   "outputs": [],
   "source": [
    "filtered_variant = filter_augment_variant_summaries(dfs[\"VariantSummaries\"])\n",
    "filtered_variant"
   ]
  },
  {
   "cell_type": "code",
   "execution_count": null,
   "id": "ec2c1a45-9e18-44a0-95b3-74750900e779",
   "metadata": {
    "scrolled": true
   },
   "outputs": [],
   "source": [
    "adf = transform_assertion_summaries(\n",
    "    dfs[\"AssertionSummaries\"], dfs[\"MolecularProfileSummaries\"]\n",
    ")\n",
    "edf = transform_clinical_evidence(\n",
    "    dfs[\"ClinicalEvidenceSummaries\"], dfs[\"MolecularProfileSummaries\"]\n",
    ")\n",
    "#vldf = transform_variant_summaries_to_loci(dfs[\"VariantSummaries\"])\n",
    "\n",
    "mps = dfs[\"MolecularProfileSummaries\"]\n",
    "\n",
    "mid2aids = split_one_to_n_map(mps, \"molecular_profile_id\", \"assertion_ids\")\n",
    "mid2eids = split_one_to_n_map(mps, \"molecular_profile_id\", \"evidence_item_ids\")\n",
    "mid2vids = split_one_to_n_map(mps, \"molecular_profile_id\", \"variant_ids\")"
   ]
  },
  {
   "cell_type": "code",
   "execution_count": null,
   "id": "466b878d-7f2e-473b-b755-23be9e35c51a",
   "metadata": {},
   "outputs": [],
   "source": [
    "edf"
   ]
  },
  {
   "cell_type": "code",
   "execution_count": null,
   "id": "73524633-76c9-4487-99a4-1e97da549fd5",
   "metadata": {},
   "outputs": [],
   "source": [
    "dfs[\"ClinicalEvidenceSummaries\"]"
   ]
  },
  {
   "cell_type": "code",
   "execution_count": null,
   "id": "d1c1ae9b-45af-4bec-a67c-01e99b7abc03",
   "metadata": {
    "scrolled": true
   },
   "outputs": [],
   "source": [
    "dfs[\"AssertionSummaries\"]"
   ]
  },
  {
   "cell_type": "code",
   "execution_count": null,
   "id": "da39fc1e-3ec4-4445-8096-03117f88466c",
   "metadata": {},
   "outputs": [],
   "source": [
    "from collections import defaultdict\n",
    "vid2mids = defaultdict(list)\n",
    "for mid, vids in mid2vids.items():\n",
    "    for vid in vids:\n",
    "        vid2mids[vid].append(mid)"
   ]
  },
  {
   "cell_type": "code",
   "execution_count": null,
   "id": "2bc946f9-7560-4816-b77f-17d6b1b48fa8",
   "metadata": {},
   "outputs": [],
   "source": [
    "vid2diseases = defaultdict(set)\n",
    "vid2therapies = defaultdict(set)\n",
    "missing_mps = []\n",
    "for _, mpid, disease, therapies in dfs[\"AssertionSummaries\"][[\"molecular_profile_id\", \"disease\", \"therapies\"]].itertuples():\n",
    "    tset = set(therapies.split(\",\")) if therapies == therapies else set()\n",
    "    dset = set([disease]) if disease == disease else set()\n",
    "    \n",
    "    if mpid in mid2vids:\n",
    "        for vid in mid2vids[mpid]:\n",
    "            vid2diseases[vid] |= dset\n",
    "            vid2therapies[vid] |= tset\n",
    "    else:\n",
    "        missing_mps.append(mpid)\n",
    "\n",
    "\n",
    "for _, mpid, disease, therapies in dfs[\"ClinicalEvidenceSummaries\"][[\"molecular_profile_id\", \"disease\", \"therapies\"]].itertuples():\n",
    "    tset = set(therapies.split(\",\")) if therapies == therapies else set()\n",
    "    dset = set([disease]) if disease == disease else set()\n",
    "    \n",
    "    if mpid in mid2vids:\n",
    "        for vid in mid2vids[mpid]:\n",
    "            vid2diseases[vid] |= dset\n",
    "            vid2therapies[vid] |= tset\n",
    "    else:\n",
    "        missing_mps.append(mpid)\n",
    "\n",
    "disease_df = pd.DataFrame({\"diseases\": [\", \".join(x) for x in vid2diseases.values()]}, index=vid2diseases.keys())\n",
    "\n",
    "therapy_df = pd.DataFrame({\"therapies\": [\", \".join(x) for x in vid2therapies.values()]}, index=vid2therapies.keys())\n",
    "\n",
    "dfs[\"VariantSummaries\"].set_index(\"variant_id\").join(disease_df).join(therapy_df).reset_index()"
   ]
  },
  {
   "cell_type": "code",
   "execution_count": null,
   "id": "f69c370d-8580-426a-afcf-e8fd544b3512",
   "metadata": {},
   "outputs": [],
   "source": [
    "vid2therapies[3]"
   ]
  },
  {
   "cell_type": "code",
   "execution_count": null,
   "id": "c2d70b23-b6e0-49ea-b2ac-76e98b0fc98c",
   "metadata": {},
   "outputs": [],
   "source": [
    "dfs[\"VariantSummaries\"].loc[dfs[\"VariantSummaries\"][\"feature_type\"] == \"Factor\", :]"
   ]
  },
  {
   "cell_type": "code",
   "execution_count": null,
   "id": "c5db9be2-4163-4c2f-8529-bef511878c5a",
   "metadata": {},
   "outputs": [],
   "source": [
    "mps.loc[mps['molecular_profile_id'] == 4344, :]"
   ]
  },
  {
   "cell_type": "code",
   "execution_count": null,
   "id": "709cf9a0-d8b0-4db2-a7bd-2f92ecb5aa0d",
   "metadata": {},
   "outputs": [],
   "source": [
    "ces = dfs[\"ClinicalEvidenceSummaries\"].set_index(\"evidence_id\")"
   ]
  },
  {
   "cell_type": "code",
   "execution_count": null,
   "id": "e339c95b-a0e2-4bf8-aa8c-9d855b4fbddf",
   "metadata": {},
   "outputs": [],
   "source": [
    "ces.loc[mid2eids[12],]"
   ]
  },
  {
   "cell_type": "code",
   "execution_count": null,
   "id": "269bb6ac-d588-42a8-a55a-0d49bc25dbac",
   "metadata": {},
   "outputs": [],
   "source": [
    "dfs[\"ClinicalEvidenceSummaries\"]"
   ]
  },
  {
   "cell_type": "markdown",
   "id": "6a0c46b4-184e-4347-acaa-35b5dcbefb8a",
   "metadata": {},
   "source": [
    "# Disease ontology\n",
    "\n",
    "DOID links look like https://www.disease-ontology.org/?id=DOID:1909\n",
    "\n",
    "so the doid column needs to be converted to an integer and then prepended with the string https://www.disease-ontology.org/?id=DOID:"
   ]
  },
  {
   "cell_type": "code",
   "execution_count": null,
   "id": "ca6d134c-bc90-4a09-8b1f-20ad0fb0529b",
   "metadata": {},
   "outputs": [],
   "source": [
    "dfs[\"AssertionSummaries\"]"
   ]
  },
  {
   "cell_type": "code",
   "execution_count": null,
   "id": "d93411b8-4780-4b84-94cf-1a07afde1120",
   "metadata": {},
   "outputs": [],
   "source": [
    "#disease\tdoid\n",
    "DOID_BASE_URL = \"https://www.disease-ontology.org/?id=DOID:{}\"\n",
    "dfs = load_dataframes(dl_dir)\n",
    "#dfs[\"AssertionSummaries\"][\"doid\"] = dfs[\"AssertionSummaries\"][\"doid\"].astype(\"Int64\").astype(\"str\")\n",
    "\n"
   ]
  },
  {
   "cell_type": "code",
   "execution_count": null,
   "id": "95c129c4-2605-4d43-9a5a-c7ef7ce3c124",
   "metadata": {},
   "outputs": [],
   "source": [
    "dfs[\"AssertionSummaries\"][\"doid\"] == \"<NA>\""
   ]
  },
  {
   "cell_type": "code",
   "execution_count": null,
   "id": "2ba23f02-552c-44af-8e71-0ac5a00c5c43",
   "metadata": {},
   "outputs": [],
   "source": []
  }
 ],
 "metadata": {
  "kernelspec": {
   "display_name": "Python 3 (ipykernel)",
   "language": "python",
   "name": "python3"
  },
  "language_info": {
   "codemirror_mode": {
    "name": "ipython",
    "version": 3
   },
   "file_extension": ".py",
   "mimetype": "text/x-python",
   "name": "python",
   "nbconvert_exporter": "python",
   "pygments_lexer": "ipython3",
   "version": "3.12.7"
  }
 },
 "nbformat": 4,
 "nbformat_minor": 5
}
